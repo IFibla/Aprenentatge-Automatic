{
  "cells": [
    {
      "cell_type": "markdown",
      "metadata": {
        "id": "view-in-github",
        "colab_type": "text"
      },
      "source": [
        "<a href=\"https://colab.research.google.com/github/IFibla/Aprenentatge-Automatic/blob/master/Problema%201/Individual-%C2%BFKullback-que%3F/main.ipynb\" target=\"_parent\"><img src=\"https://colab.research.google.com/assets/colab-badge.svg\" alt=\"Open In Colab\"/></a>"
      ]
    },
    {
      "cell_type": "markdown",
      "source": [
        "# ¿Kullback que?\n",
        "\n",
        "Cuando trabajamos con modelos que representan una distribución de probabilidad nuestro objetivo es hacer que la distribución de los datos se acerque lo más posible a las probabilidades que nos da el modelo sobre esos datos. Existen muchas maneras de calcular esa diferencia, una común es usar funciones de divergencia, entre ellas la divergencia de Kullback-Leibler es la más usada. Dadas dos distribuciones de probabilidad 𝑃 y 𝑄 se define asumiendo que sean distribuciones discretas como:\n",
        "\n",
        "$$\n",
        "KL(P|Q)=\\sum_{i=1}^{N}P(i)\\cdot \\log(\\frac{P(i)}{Q(i)}) \n",
        "$$\n",
        "\n",
        "En el caso de distribuciones continuas, simplemente substituimos el sumatorio por una integral.\n",
        "\n"
      ],
      "metadata": {
        "id": "tNlYxswldlOk"
      }
    },
    {
      "cell_type": "code",
      "execution_count": 2,
      "metadata": {
        "id": "mJTYZijMdg_D"
      },
      "outputs": [],
      "source": [
        "%load_ext autoreload\n",
        "%autoreload 2"
      ]
    },
    {
      "cell_type": "code",
      "source": [
        "from jax import grad, jit, vmap\n",
        "from sklearn.datasets import make_classification, make_circles\n",
        "import jax.numpy as np\n",
        "import matplotlib.pyplot as plt\n",
        "import sklearn\n",
        "import math"
      ],
      "metadata": {
        "id": "9f7kVGAJf12-"
      },
      "execution_count": 54,
      "outputs": []
    },
    {
      "cell_type": "code",
      "source": [
        "RANDOM_STATE = 100"
      ],
      "metadata": {
        "id": "tv_mwq9mg7Iu"
      },
      "execution_count": 94,
      "outputs": []
    },
    {
      "cell_type": "markdown",
      "source": [
        "## Utils"
      ],
      "metadata": {
        "id": "HJexNey3i2Yd"
      }
    },
    {
      "cell_type": "code",
      "source": [
        "def resize_make_classification_list(in_list):\n",
        "  out_list = []\n",
        "  for i in range(len(in_list[0])):\n",
        "    out_list.append([l[i] for l in in_list])\n",
        "  return out_list"
      ],
      "metadata": {
        "id": "i3VcSnL1NrAB"
      },
      "execution_count": 5,
      "outputs": []
    },
    {
      "cell_type": "code",
      "source": [
        "def plot_profile(profile, xlabel='', ylabel='', xlim=None, ylim=None, color=None, fill=True, annotate=None, title=None, hlines=None, vertical_strips=None):\n",
        "  fig, ax1 = plt.subplots(figsize=(18,4))\n",
        "  if xlim: plt.xlim(xlim)\n",
        "\n",
        "  ax1.set_xlabel(xlabel)\n",
        "\n",
        "  color = color if color else 'tab:blue'\n",
        "  ax1.set_ylabel(ylabel)\n",
        "  ax1.plot(profile['X'], profile['Y'], color=color)\n",
        "  if fill: plt.fill_between(profile['X'], profile['Y'], color=color, alpha=0.2)\n",
        "  if ylim: plt.ylim(ylim)\n",
        "  \n",
        "  if title: plt.title(title)\n",
        "  \n",
        "  if vertical_strips:\n",
        "      for (a,b) in vertical_strips:\n",
        "          plt.axvspan(a, b, alpha=0.75, color='#E79900')\n",
        "  \n",
        "  if hlines:\n",
        "      for h in hlines:\n",
        "          plt.axhline(y=h, color='grey', linestyle='--', alpha=0.8, linewidth=1)"
      ],
      "metadata": {
        "id": "onNJfpTS7J_j"
      },
      "execution_count": 6,
      "outputs": []
    },
    {
      "cell_type": "code",
      "source": [
        "def plot_binary_scatters (f_scatter, t_scatter, xlabel='', ylabel='', xlim=None, ylim=None, color=['tab:red', 'tab:green'], fill=True, annotate=None, title=None, hlines=None):\n",
        "  fig, ax1 = plt.subplots(figsize=(8,8))\n",
        "  ax1.set_xlabel(xlabel)\n",
        "  ax1.set_ylabel(ylabel)\n",
        "  ax1.scatter(f_scatter['X'], f_scatter['Y'], c=color[0])\n",
        "  ax1.scatter(t_scatter['X'], t_scatter['Y'], c=color[1])  \n",
        "  if title: plt.title(title)"
      ],
      "metadata": {
        "id": "rZoQqelA2uwA"
      },
      "execution_count": 79,
      "outputs": []
    },
    {
      "cell_type": "code",
      "source": [
        "def plot_binary_scatters_and_profile (f_scatter, t_scatter, profile, xlabel='', ylabel='', xlim=None, ylim=None, color=['tab:red', 'tab:green', 'tab:blue'], fill=True, annotate=None, title=None, hlines=None):\n",
        "  fig, ax1 = plt.subplots(figsize=(8,8))\n",
        "  ax1.set_xlabel(xlabel)\n",
        "  ax1.set_ylabel(ylabel)\n",
        "  ax1.scatter(f_scatter['X'], f_scatter['Y'], c=color[0])\n",
        "  ax1.scatter(t_scatter['X'], t_scatter['Y'], c=color[1])  \n",
        "  ax1.plot(profile['X'], profile['Y'], color=color[2])\n",
        "  if title: plt.title(title)\n",
        "  if ylim: plt.ylim(ylim)"
      ],
      "metadata": {
        "id": "0JDVGvsp5Hts"
      },
      "execution_count": 84,
      "outputs": []
    },
    {
      "cell_type": "code",
      "source": [
        "def generate_matplotlib_histogram(X, labelX, labelY, title, rangeX=None, rangeY=None, bins=30):\n",
        "  if rangeX is None: \n",
        "    rangeX = [np.min(X), np.max(X)]\n",
        "  plt.hist(X, bins=bins, alpha=1, range=rangeX, density=True, stacked=True)  \n",
        "  plt.xlabel(labelX)\n",
        "  plt.ylabel(labelY)\n",
        "  plt.title(title)\n",
        "  if rangeY is not None:\n",
        "    plt.ylim((rangeY[0], rangeY[1]))\n",
        "  plt.legend([len(x) for x in X] if len(X) > 1 else \"X\")\n",
        "  plt.show()"
      ],
      "metadata": {
        "id": "gn2wU130i6E-"
      },
      "execution_count": 7,
      "outputs": []
    },
    {
      "cell_type": "code",
      "source": [
        "def gradient_descend ( loss_function, init_var, x, in_axes, epochs=1000, epsilon=1e-10, learning_rate=0.001, verbose=False ):\n",
        "  loss_history = []\n",
        "  grad_func = jit ( grad ( loss_function ) )\n",
        "  vmap_grad_func = vmap( grad_func, in_axes=in_axes )\n",
        "  \n",
        "  vmap_func = vmap( loss_function, in_axes=in_axes )\n",
        "  loss_history.append(vmap_func(x, init_var).mean(0))\n",
        "\n",
        "  for i in range(epochs):\n",
        "    part = vmap_grad_func(x, init_var)\n",
        "    init_var -= (learning_rate * part.mean(0).mean(0))\n",
        "    loss_history.append(vmap_func(x, init_var).mean(0))\n",
        "    if np.abs(loss_history[-2] - loss_history[-1]) <= epsilon or math.isnan(loss_history[-1]):\n",
        "      break\n",
        "    if verbose: print(\"Epoch\", i, \": init_var =\", init_var, \"loss =\", loss_history[-1], \"\\r\")\n",
        "  return init_var, loss_history"
      ],
      "metadata": {
        "id": "P59IXJcdx-Bj"
      },
      "execution_count": 52,
      "outputs": []
    },
    {
      "cell_type": "markdown",
      "source": [
        "> Siendo 𝑋 una muestra de datos 𝑥1, ... , 𝑥𝑛 de valores discretos, donde podemos estimar su distribución 𝑃 a partir de su frecuencia y 𝑄 es una distribución de probabilidad sobre el mismo rango de valores discretos. Demuestra que optimizar 𝐾 𝐿(𝑃 |𝑄) es equivalente a optimizar la log verosimilitud negativa de 𝑄 sobre los datos."
      ],
      "metadata": {
        "id": "hWDNwM-oQZiY"
      }
    },
    {
      "cell_type": "code",
      "source": [
        "a_minus_log_verosimilitud_q = lambda P: sum(1/np.log(P)) - (len(P) * np.log(len(P)))\n",
        "a_diff_minus_log_verosimilitud_q = lambda P: sum(1/np.log(P))\n",
        "\n",
        "a_optimise_kl = lambda P: (len(P) + len(P) * np.log(len(P))) * sum(P)\n",
        "a_diff_optimise_kl = lambda P: (len(P) + len(P) * np.log(len(P))) * sum(P)"
      ],
      "metadata": {
        "id": "620AnuQNQg10"
      },
      "execution_count": 9,
      "outputs": []
    },
    {
      "cell_type": "markdown",
      "source": [
        "> Todo modelo de clasificación es una distribución de probabilidad sobre un conjunto de valores discretos, por lo que podemos ajustar un modelo probabilístico para clasificación haciendo que las probabilidades que obtenga para una muestra se ajusten a las de los datos. Usa la función make_classification de scikit-learn para crear un conjunto de datos de clasificación de dos dimensiones y 100 ejemplos. Tendrás dar un valor 0 al parámetro n_redundant y un valor 1 al parámetro n_clusters_per_class. Da un valor también al parámetro random_state para que los experimentos sean reproducibles. El problema que generará será de clasificación binaria."
      ],
      "metadata": {
        "id": "ABudX8lbfskY"
      }
    },
    {
      "cell_type": "markdown",
      "source": [
        "[Documentation. make_classification](https://scikit-learn.org/stable/modules/generated/sklearn.datasets.make_classification.html)\n"
      ],
      "metadata": {
        "id": "1xg3L-mJgVOi"
      }
    },
    {
      "cell_type": "code",
      "source": [
        "b_sample = make_classification(n_samples=100, n_features=2, n_informative=2, n_redundant=0, n_clusters_per_class=1, random_state=RANDOM_STATE)\n",
        "b_sample_prob = b_sample[0]\n",
        "b_sample_label = b_sample[1]\n",
        "b_sample_prob[:5], b_sample_label[:5]"
      ],
      "metadata": {
        "id": "ThekmQiTgRZj",
        "colab": {
          "base_uri": "https://localhost:8080/"
        },
        "outputId": "20fa276b-6995-4316-8adc-ad6614719466"
      },
      "execution_count": 95,
      "outputs": [
        {
          "output_type": "execute_result",
          "data": {
            "text/plain": [
              "(array([[ 1.01140791, -1.02987613],\n",
              "        [-0.99420258,  0.80954843],\n",
              "        [-1.04912891,  1.43302765],\n",
              "        [ 1.80795989, -0.53074909],\n",
              "        [ 0.43541821, -0.99272674]]), array([0, 1, 1, 0, 0]))"
            ]
          },
          "metadata": {},
          "execution_count": 95
        }
      ]
    },
    {
      "cell_type": "code",
      "source": [
        "true_x = [x[0] for idx, x in enumerate(b_sample_prob) if b_sample_label[idx]]\n",
        "true_y = [x[1] for idx, x in enumerate(b_sample_prob) if b_sample_label[idx]]\n",
        "false_x = [x[1] for idx, x in enumerate(b_sample_prob) if not b_sample_label[idx]]\n",
        "false_y = [x[1] for idx, x in enumerate(b_sample_prob) if not b_sample_label[idx]]\n",
        "\n",
        "t_scat = {'X': true_x, 'Y': true_y}\n",
        "f_scat = {'X': false_x, 'Y': false_y}\n",
        "\n",
        "plot_binary_scatters(f_scat, t_scat)"
      ],
      "metadata": {
        "id": "2DZX-8IaEfSq",
        "outputId": "378fc6ac-ce87-4395-dd71-dfac5f4747d1",
        "colab": {
          "base_uri": "https://localhost:8080/",
          "height": 484
        }
      },
      "execution_count": 96,
      "outputs": [
        {
          "output_type": "display_data",
          "data": {
            "text/plain": [
              "<Figure size 576x576 with 1 Axes>"
            ],
            "image/png": "[encoded data removed]"
          },
          "metadata": {
            "needs_background": "light"
          }
        }
      ]
    },
    {
      "cell_type": "markdown",
      "source": [
        "> Podemos crear un modelo probabilístico con una función linear $f(w,x)=w\\cdot x$. Para obtener probabilidades simplemente tenemos que aplicar sobre el resultado una función que de un valor entre 0 y 1. Por ejemplo la función sigmoide 𝜎:\n",
        ">\n",
        "> $σ(x)=\\frac{1}{1+e^x}$\n",
        ">\n",
        "> A partir de la divergencia de Kullback-Leibler simplificando para problemas binarios podemos llegar a la función de pérdida de entropía cruzada binaria (binary cross entropy):\n",
        ">\n",
        "> $BCE(p(x), y )=y \\cdot \\log(p(x)) + (1-y) \\cdot \\log(1-p(x))$\n",
        ">\n",
        "> Donde 𝑝(𝑥) es la probabilidad que le asigna el modelo a un ejemplo, e 𝑦 es la etiqueta que le corresponde a los datos. Implementa un algoritmo de descenso de gradiente usando JAX con la función de entropía cruzada binaria. Explora diferentes tasas de aprendizaje. Comenta lo que observes en el comportamiento del error y los parámetros durante la optimización. Escoge un número de iteraciones y un valor para decidir el final de la optimización que te parezcan adecuados."
      ],
      "metadata": {
        "id": "CmlvJqMkQYJ1"
      }
    },
    {
      "cell_type": "markdown",
      "source": [
        "[Documentation. jax.grad](https://jax.readthedocs.io/en/latest/_autosummary/jax.grad.html)"
      ],
      "metadata": {
        "id": "z_lBNg2QVmte"
      }
    },
    {
      "cell_type": "code",
      "source": [
        "c_dataset = np.array([[x[0], x[1], y] for x, y in zip(b_sample_prob, b_sample_label)])"
      ],
      "metadata": {
        "id": "zfQvwgez2A4R"
      },
      "execution_count": 97,
      "outputs": []
    },
    {
      "cell_type": "code",
      "source": [
        "c_sigmoid_function = lambda x: 1 / (1 + np.exp(x))\n",
        "c_linear_function = lambda w, x: w[0] * x + w[1]\n",
        "c_cross_binary_entropy = lambda Px, y: y * np.log(Px) + ((1 - y) * np.log(1-Px))\n",
        "c_linear_cross_binary_entropy = lambda w, x: c_cross_binary_entropy ( c_sigmoid_function( c_linear_function(w[0:2], x) ), w[2] )"
      ],
      "metadata": {
        "id": "4Y-JlCQ1dJgS"
      },
      "execution_count": 98,
      "outputs": []
    },
    {
      "cell_type": "code",
      "source": [
        "final_val, loss_history = gradient_descend(c_linear_cross_binary_entropy,\n",
        "                                            0.9,\n",
        "                                            c_dataset,\n",
        "                                            (0, None),\n",
        "                                            epochs=1000,\n",
        "                                            learning_rate=0.01,\n",
        "                                            verbose=False)\n",
        "loss_history_profile = {'X': range(len(loss_history)), 'Y': loss_history}\n",
        "plot_profile(loss_history_profile, xlabel=\"Epochs\", ylabel='Cross Binary Entropy Loss Value')"
      ],
      "metadata": {
        "id": "l5HgBoTweOq8",
        "colab": {
          "base_uri": "https://localhost:8080/",
          "height": 280
        },
        "outputId": "d927a1ae-061d-4ee0-85e2-a41e20939fa5"
      },
      "execution_count": 109,
      "outputs": [
        {
          "output_type": "display_data",
          "data": {
            "text/plain": [
              "<Figure size 1296x288 with 1 Axes>"
            ],
            "image/png": "[encoded data removed]"
          },
          "metadata": {
            "needs_background": "light"
          }
        }
      ]
    },
    {
      "cell_type": "code",
      "source": [
        "p_min = min(min(true_x), min(false_x))\n",
        "p_max = max(max(true_x), max(false_x))\n",
        "\n",
        "profileX = np.linspace(p_min, p_max, 50)\n",
        "profileY = [final_val * x for x in profileX]\n",
        "profile = {'X': profileX, 'Y': profileY}\n",
        "\n",
        "plot_binary_scatters_and_profile(f_scat, t_scat, profile, ylim=[-3, 3])"
      ],
      "metadata": {
        "colab": {
          "base_uri": "https://localhost:8080/",
          "height": 488
        },
        "id": "6OUst-uH5A6k",
        "outputId": "cd7d0a5f-bec4-4013-f28c-91a56b68b1b6"
      },
      "execution_count": 110,
      "outputs": [
        {
          "output_type": "display_data",
          "data": {
            "text/plain": [
              "<Figure size 576x576 with 1 Axes>"
            ],
            "image/png": "[encoded data removed]"
          },
          "metadata": {
            "needs_background": "light"
          }
        }
      ]
    },
    {
      "cell_type": "code",
      "source": [
        "grad_func = jit ( grad ( c_linear_cross_binary_entropy ) )\n",
        "vmap_func = vmap( grad_func, in_axes=(0, None) )\n",
        "vmap_func2 = vmap( c_linear_cross_binary_entropy, in_axes=(0, None) )\n",
        "print((vmap_func(c_dataset, 2))[:2])\n",
        "print((vmap_func2(c_dataset, 2))[:2])"
      ],
      "metadata": {
        "colab": {
          "base_uri": "https://localhost:8080/"
        },
        "id": "oIkl3X0ZtC1h",
        "outputId": "09a33f9b-8d7d-4c49-9a65-39d146b94dc2"
      },
      "execution_count": 20,
      "outputs": [
        {
          "output_type": "stream",
          "name": "stdout",
          "text": [
            "[[-0.45575705 -0.22787853  1.2203293 ]\n",
            " [ 0.13176757  0.06588379 -2.6517086 ]]\n",
            "[-0.25861338 -0.06815439]\n"
          ]
        }
      ]
    },
    {
      "cell_type": "markdown",
      "source": [
        "> Genera un conjunto de datos con la función make_circles de scikit-learn usando el valor 0,1 para el parámetro noise. Optimiza el modelo para varios parámetros iniciales diferentes del modelo. Cuenta que esta que sucediendo e intenta explicar el porqué."
      ],
      "metadata": {
        "id": "ua1BColsfU3j"
      }
    },
    {
      "cell_type": "markdown",
      "source": [
        "[Documentation. sklearn.datasets.make_circles](https://scikit-learn.org/stable/modules/generated/sklearn.datasets.make_circles.html)"
      ],
      "metadata": {
        "id": "j3Ah5WYpfbID"
      }
    },
    {
      "cell_type": "code",
      "source": [
        "d_sample = make_circles(n_samples=100, noise=0.1, random_state=RANDOM_STATE)\n",
        "d_sample_prob = d_sample[0]\n",
        "d_sample_label = d_sample[1]\n",
        "d_sample_prob[:5], d_sample_label[:5]"
      ],
      "metadata": {
        "id": "EhwJHwIzfYO9",
        "colab": {
          "base_uri": "https://localhost:8080/"
        },
        "outputId": "7322c90e-13dd-4caa-cafc-f3b59edc32ff"
      },
      "execution_count": 58,
      "outputs": [
        {
          "output_type": "execute_result",
          "data": {
            "text/plain": [
              "(array([[-0.63640493, -0.36870191],\n",
              "        [-0.24465976, -0.73659196],\n",
              "        [-0.46597138, -1.06687743],\n",
              "        [-0.70999784, -0.40841948],\n",
              "        [ 0.70232238, -0.51730147]]), array([1, 1, 0, 1, 1]))"
            ]
          },
          "metadata": {},
          "execution_count": 58
        }
      ]
    },
    {
      "cell_type": "code",
      "source": [
        "d_true_x = [x[0] for idx, x in enumerate(d_sample_prob) if d_sample_label[idx]]\n",
        "d_true_y = [x[1] for idx, x in enumerate(d_sample_prob) if d_sample_label[idx]]\n",
        "d_false_x = [x[1] for idx, x in enumerate(d_sample_prob) if not d_sample_label[idx]]\n",
        "d_false_y = [x[1] for idx, x in enumerate(d_sample_prob) if not d_sample_label[idx]]\n",
        "\n",
        "d_t_scat = {'X': d_true_x, 'Y': d_true_y}\n",
        "d_f_scat = {'X': d_false_x, 'Y': d_false_y}\n",
        "\n",
        "plot_binary_scatters(d_t_scat, d_f_scat)"
      ],
      "metadata": {
        "colab": {
          "base_uri": "https://localhost:8080/",
          "height": 484
        },
        "id": "uYqBKuRnEKZ2",
        "outputId": "231387b6-c117-4b7f-d24f-2fe59578fc84"
      },
      "execution_count": 88,
      "outputs": [
        {
          "output_type": "display_data",
          "data": {
            "text/plain": [
              "<Figure size 576x576 with 1 Axes>"
            ],
            "image/png": "[encoded data removed]"
          },
          "metadata": {
            "needs_background": "light"
          }
        }
      ]
    },
    {
      "cell_type": "markdown",
      "source": [
        "> La función de entropía cruzada parece una función extraña para optimizar cuando lo que nos interesa es un modelo que tenga el mínimo número de ejemplos mal clasificados. En este caso se correspondería a la función de pérdida 0/1, que en el caso de probabilidades asignaría una pérdida de 0 a valores menores que 0.5 y 1 en caso contrario ¿Porqué no es una buena idea optimizar directamente esta función? Representa las dos funciones."
      ],
      "metadata": {
        "id": "3OvLeqrTgYYn"
      }
    },
    {
      "cell_type": "code",
      "source": [
        "e_binary_loss_function = lambda Px: (Px < 0.5)\n",
        "e_linear_binary_loss_function = lambda w, x: e_binary_loss_function(c_sigmoid_function(c_linear_function(w[0:2], x))).astype(float)"
      ],
      "metadata": {
        "id": "Y8gwO9EWgeFU"
      },
      "execution_count": 64,
      "outputs": []
    },
    {
      "cell_type": "code",
      "source": [
        "e_dataset = np.array([[x[0], x[1], y] for x, y in zip(d_sample_prob, d_sample_label)])"
      ],
      "metadata": {
        "id": "qMEpN8vO-uqK"
      },
      "execution_count": 61,
      "outputs": []
    },
    {
      "cell_type": "code",
      "source": [
        "e_final_val, loss_history = gradient_descend(c_linear_cross_binary_entropy,\n",
        "                                            0,\n",
        "                                            e_dataset,\n",
        "                                            (0, None),\n",
        "                                            epochs=1000,\n",
        "                                            learning_rate=0.1,\n",
        "                                            verbose=False)\n",
        "loss_history_profile = {'X': range(len(loss_history)), 'Y': loss_history}\n",
        "plot_profile(loss_history_profile, xlabel=\"Epochs\", ylabel='Cross Binary Entropy Loss Value')"
      ],
      "metadata": {
        "id": "vWJtySOZ-iVv",
        "colab": {
          "base_uri": "https://localhost:8080/",
          "height": 280
        },
        "outputId": "4e989346-6491-4b23-e627-f635a441799b"
      },
      "execution_count": 89,
      "outputs": [
        {
          "output_type": "display_data",
          "data": {
            "text/plain": [
              "<Figure size 1296x288 with 1 Axes>"
            ],
            "image/png": "[encoded data removed]"
          },
          "metadata": {
            "needs_background": "light"
          }
        }
      ]
    },
    {
      "cell_type": "code",
      "source": [
        "p_min = min(min(d_true_x), min(d_false_x))\n",
        "p_max = max(max(d_true_x), max(d_false_x))\n",
        "\n",
        "profileX = np.linspace(p_min, p_max, 50)\n",
        "profileY = [e_final_val * x for x in profileX]\n",
        "profile = {'X': profileX, 'Y': profileY}\n",
        "\n",
        "plot_binary_scatters_and_profile(f_scat, t_scat, profile, ylim=[-2, 2])"
      ],
      "metadata": {
        "colab": {
          "base_uri": "https://localhost:8080/",
          "height": 488
        },
        "id": "HH-DbMfm6V0Y",
        "outputId": "f14e405d-40ac-41f5-d0ab-37ccb83ea2f9"
      },
      "execution_count": 91,
      "outputs": [
        {
          "output_type": "display_data",
          "data": {
            "text/plain": [
              "<Figure size 576x576 with 1 Axes>"
            ],
            "image/png": "[encoded data removed]"
          },
          "metadata": {
            "needs_background": "light"
          }
        }
      ]
    },
    {
      "cell_type": "code",
      "source": [
        "e2_final_val, loss_history = gradient_descend(e_linear_binary_loss_function,\n",
        "                                            0,\n",
        "                                            e_dataset,\n",
        "                                            (0, None),\n",
        "                                            epochs=1000,\n",
        "                                            learning_rate=0.1,\n",
        "                                            verbose=False)\n",
        "loss_history_profile = {'X': range(len(loss_history)), 'Y': loss_history}\n",
        "plot_profile(loss_history_profile, xlabel=\"Epochs\", ylabel='Binary Loss Value')"
      ],
      "metadata": {
        "id": "MyVC_wKo_Cqj",
        "colab": {
          "base_uri": "https://localhost:8080/",
          "height": 280
        },
        "outputId": "4964812f-e5f0-4850-f603-83c21d92357d"
      },
      "execution_count": 92,
      "outputs": [
        {
          "output_type": "display_data",
          "data": {
            "text/plain": [
              "<Figure size 1296x288 with 1 Axes>"
            ],
            "image/png": "[encoded data removed]"
          },
          "metadata": {
            "needs_background": "light"
          }
        }
      ]
    },
    {
      "cell_type": "code",
      "source": [
        "p_min = min(min(d_true_x), min(d_false_x))\n",
        "p_max = max(max(d_true_x), max(d_false_x))\n",
        "\n",
        "profileX = np.linspace(p_min, p_max, 50)\n",
        "profileY = [e2_final_val * x for x in profileX]\n",
        "profile = {'X': profileX, 'Y': profileY}\n",
        "\n",
        "plot_binary_scatters_and_profile(f_scat, t_scat, profile, ylim=[-2, 2])"
      ],
      "metadata": {
        "colab": {
          "base_uri": "https://localhost:8080/",
          "height": 488
        },
        "id": "lbc9JyjC6vrF",
        "outputId": "d94ea3b4-06b9-4f48-8d21-1803dcc33861"
      },
      "execution_count": 93,
      "outputs": [
        {
          "output_type": "display_data",
          "data": {
            "text/plain": [
              "<Figure size 576x576 with 1 Axes>"
            ],
            "image/png": "[encoded data removed]"
          },
          "metadata": {
            "needs_background": "light"
          }
        }
      ]
    },
    {
      "cell_type": "code",
      "source": [],
      "metadata": {
        "id": "_z6qopJo60fb"
      },
      "execution_count": null,
      "outputs": []
    }
  ],
  "metadata": {
    "kernelspec": {
      "display_name": "Python 3.10.6 64-bit",
      "language": "python",
      "name": "python3"
    },
    "language_info": {
      "name": "python",
      "version": "3.10.6"
    },
    "orig_nbformat": 4,
    "vscode": {
      "interpreter": {
        "hash": "b0fa6594d8f4cbf19f97940f81e996739fb7646882a419484c72d19e05852a7e"
      }
    },
    "colab": {
      "provenance": [],
      "include_colab_link": true
    },
    "accelerator": "GPU"
  },
  "nbformat": 4,
  "nbformat_minor": 0
}