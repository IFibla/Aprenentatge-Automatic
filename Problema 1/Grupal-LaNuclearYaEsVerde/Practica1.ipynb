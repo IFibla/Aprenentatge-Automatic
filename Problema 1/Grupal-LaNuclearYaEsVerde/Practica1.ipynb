{
  "nbformat": 4,
  "nbformat_minor": 0,
  "metadata": {
    "colab": {
      "provenance": [],
      "collapsed_sections": []
    },
    "kernelspec": {
      "name": "python3",
      "display_name": "Python 3"
    },
    "language_info": {
      "name": "python"
    },
    "accelerator": "TPU"
  },
  "cells": [
    {
      "cell_type": "code",
      "execution_count": 1,
      "metadata": {
        "id": "LoDtbeLYET4n"
      },
      "outputs": [],
      "source": [
        "import matplotlib.pyplot as plt\n",
        "import numpy as np\n",
        "import pandas as pd\n",
        "import math\n",
        "import jax.numpy as jnp\n",
        "import jax\n",
        "from jax import grad, vmap, jit, random\n",
        "from tqdm import tqdm"
      ]
    },
    {
      "cell_type": "code",
      "source": [
        "SEED = 1234\n",
        "lmbda = 5"
      ],
      "metadata": {
        "id": "tKMVE9diFFo-"
      },
      "execution_count": 2,
      "outputs": []
    },
    {
      "cell_type": "code",
      "source": [
        "key1, key2, key3 = random.split(jax.random.PRNGKey(SEED),3)\n",
        "\n",
        "data_50 = -lmbda*np.log(jax.random.uniform(key1,[50],minval=0.0,maxval=1.0))\n",
        "data_500 = -lmbda*np.log(jax.random.uniform(key2,[500],minval=0.0,maxval=1.0))\n",
        "data_2000 = -lmbda*np.log(jax.random.uniform(key3,[2000],minval=0.0,maxval=1.0))\n",
        "\n",
        "print(len(data_50), len(data_500), len(data_2000))"
      ],
      "metadata": {
        "colab": {
          "base_uri": "https://localhost:8080/"
        },
        "id": "LvbgOb10FRQx",
        "outputId": "ef64ddd2-524a-4cde-bc60-2d8c9b2dd196"
      },
      "execution_count": 3,
      "outputs": [
        {
          "output_type": "stream",
          "name": "stderr",
          "text": [
            "WARNING:absl:No GPU/TPU found, falling back to CPU. (Set TF_CPP_MIN_LOG_LEVEL=0 and rerun for more info.)\n"
          ]
        },
        {
          "output_type": "stream",
          "name": "stdout",
          "text": [
            "50 500 2000\n"
          ]
        }
      ]
    },
    {
      "cell_type": "code",
      "source": [
        "def log_function(lmbd, x):\n",
        "  return len(x)*jnp.log(lmbd[0]) - 1/lmbd[0] * sum([-xs for xs in x])"
      ],
      "metadata": {
        "id": "5VEsVLIiM8X0"
      },
      "execution_count": 4,
      "outputs": []
    },
    {
      "cell_type": "code",
      "source": [
        "def gradLoss(data):\n",
        "  param = jnp.array([2.2])\n",
        "  gradFunc = jit(grad(log_function))\n",
        "\n",
        "  ploss = jnp.abs(param[0]-lmbda)\n",
        "  lr = 0.01\n",
        "\n",
        "  for i in range(1000):\n",
        "    part = gradFunc(param,data)\n",
        "\n",
        "    param -= (lr * part)\n",
        "\n",
        "    loss = jnp.abs(param[0]-lmbda)\n",
        "\n",
        "    if jnp.abs(ploss-loss) < 1e-10:\n",
        "      print(\"Finished in iteration: \")\n",
        "      print(i)\n",
        "      break\n",
        "    ploss = loss\n",
        "  return param"
      ],
      "metadata": {
        "id": "u4xTdS-rMIBo"
      },
      "execution_count": 5,
      "outputs": []
    },
    {
      "cell_type": "code",
      "source": [
        "l1 = gradLoss(data_50)\n",
        "l2 = gradLoss(data_500)\n",
        "l3 = gradLoss(data_2000)\n",
        "\n",
        "print(l1, l2, l3)"
      ],
      "metadata": {
        "colab": {
          "base_uri": "https://localhost:8080/"
        },
        "id": "hO32sSxIN8rm",
        "outputId": "35f989b0-fed7-4470-b22c-a425aaeda687"
      },
      "execution_count": 6,
      "outputs": [
        {
          "output_type": "stream",
          "name": "stdout",
          "text": [
            "Finished in iteration: \n",
            "615\n",
            "Finished in iteration: \n",
            "59\n",
            "Finished in iteration: \n",
            "17\n",
            "[5.2542224] [5.277811] [4.823823]\n"
          ]
        }
      ]
    },
    {
      "cell_type": "code",
      "source": [
        "print(data_50.mean(), data_500.mean(), data_2000.mean())"
      ],
      "metadata": {
        "colab": {
          "base_uri": "https://localhost:8080/"
        },
        "id": "sLjBcsP_P_pJ",
        "outputId": "4fb17ae9-fa67-4253-8c6b-42ad45248a90"
      },
      "execution_count": 7,
      "outputs": [
        {
          "output_type": "stream",
          "name": "stdout",
          "text": [
            "5.2542353 5.277811 4.8238254\n"
          ]
        }
      ]
    },
    {
      "cell_type": "code",
      "source": [
        "SEED2 = 2345\n",
        "\n",
        "lmbda1 = 3\n",
        "lmbda2 = 11"
      ],
      "metadata": {
        "id": "9onCBPxYUN7r"
      },
      "execution_count": 8,
      "outputs": []
    },
    {
      "cell_type": "code",
      "source": [
        "key_1, key_2 = random.split(jax.random.PRNGKey(SEED2),2)\n",
        "\n",
        "data_2500_1 = -lmbda1*np.log(jax.random.uniform(key1,[2500],minval=0.0,maxval=1.0))\n",
        "data_2500_2 = -lmbda2*np.log(jax.random.uniform(key2,[2500],minval=0.0,maxval=1.0))\n",
        "\n",
        "data_final = np.concatenate((data_2500_1,data_2500_2))\n",
        "\n",
        "print(len(data_final), len(data_2500_1), len(data_2500_2))\n",
        "print(data_final.mean(), data_2500_1.mean(), data_2500_2.mean())"
      ],
      "metadata": {
        "colab": {
          "base_uri": "https://localhost:8080/"
        },
        "id": "zeGPzQsmUjTP",
        "outputId": "b4d870c8-bf95-4d11-a996-e69466864db2"
      },
      "execution_count": 9,
      "outputs": [
        {
          "output_type": "stream",
          "name": "stdout",
          "text": [
            "5000 2500 2500\n",
            "7.0443783 3.0402856 11.0484705\n"
          ]
        }
      ]
    },
    {
      "cell_type": "code",
      "source": [
        "@jax.jit\n",
        "def func_log(lmbd1,lmbd2,xs):\n",
        "  return jnp.log(0.5*1/lmbd1[0]*jnp.exp(-xs/lmbd1[0]) + 0.5*1/lmbd2[0]*jnp.exp(-xs/lmbd2[0]))"
      ],
      "metadata": {
        "id": "K6ZalOIokUPd"
      },
      "execution_count": 10,
      "outputs": []
    },
    {
      "cell_type": "code",
      "source": [
        "def gradLoss_2(data):\n",
        "  param1 = jnp.array([0.5])\n",
        "  gradFunc1 = jit(grad(func_log,argnums=0)) # first param\n",
        "\n",
        "  param2 = jnp.array([15.3])\n",
        "  gradFunc2 = jit(grad(func_log,argnums=1)) # second param\n",
        "\n",
        "  ploss1 = jnp.abs(param1[0]-lmbda1)\n",
        "  ploss2 = jnp.abs(param2[0]-lmbda2)\n",
        "\n",
        "  lr = 0.001\n",
        "\n",
        "  stop1 = False\n",
        "  stop2 = False\n",
        "\n",
        "  paramProg1 = []\n",
        "  paramProg2 = []\n",
        "\n",
        "  logProg1 = []\n",
        "  logProg2 = []\n",
        "\n",
        "  part1 = -sum(vmap(gradFunc1, in_axes=(None,None, 0))(param1,param2, data))\n",
        "  part2 = -sum(vmap(gradFunc2, in_axes=(None,None, 0))(param1,param2, data))\n",
        "\n",
        "  \n",
        "  paramProg1.append(param1)\n",
        "  paramProg2.append(param2)\n",
        "\n",
        "  logProg1.append(part1)\n",
        "  logProg2.append(part2)\n",
        "\n",
        "  for i in range(1000):\n",
        "      if not stop1:\n",
        "        part1 = -sum(vmap(gradFunc1, in_axes=(None,None, 0))(param1,param2, data))\n",
        "        param1 -= (lr * part1)\n",
        "\n",
        "        paramProg1.append(param1)\n",
        "        logProg1.append(part1)\n",
        "\n",
        "        loss1 = jnp.abs(param1[0]-lmbda1) \n",
        "\n",
        "        if jnp.abs(ploss1-loss1) < 1e-10:\n",
        "          stop1 = True\n",
        "\n",
        "        ploss1 = loss1\n",
        "\n",
        "      if not stop2:\n",
        "        part2 = -sum(vmap(gradFunc2, in_axes=(None,None, 0))(param1,param2, data))\n",
        "        param2 -= (lr * part2)\n",
        "\n",
        "        paramProg2.append(param2)\n",
        "        logProg2.append(part2)\n",
        "\n",
        "        loss2 = jnp.abs(param2[0]-lmbda2) \n",
        "\n",
        "        if jnp.abs(ploss2-loss2) < 1e-10:\n",
        "          stop2 = True\n",
        "      \n",
        "        ploss2 = loss2\n",
        "\n",
        "      if stop1 and stop2:\n",
        "        break\n",
        "\n",
        "\n",
        "  return param1, param2, paramProg1, logProg1, paramProg2, logProg2"
      ],
      "metadata": {
        "id": "LD4oY8UNWklz"
      },
      "execution_count": 42,
      "outputs": []
    },
    {
      "cell_type": "code",
      "source": [
        "l_pred1, l_pred2, paramProg1, logProg1, paramProg2, logProg2 = gradLoss_2(data_final)\n",
        "\n",
        "print(l_pred1, l_pred2)"
      ],
      "metadata": {
        "colab": {
          "base_uri": "https://localhost:8080/"
        },
        "id": "dKJJ-tKoYLXT",
        "outputId": "144d22cd-b523-4b74-c812-8ae0d506aa26"
      },
      "execution_count": 43,
      "outputs": [
        {
          "output_type": "stream",
          "name": "stdout",
          "text": [
            "[3.0546207] [11.0590315]\n"
          ]
        }
      ]
    },
    {
      "cell_type": "code",
      "source": [
        "it1 = np.arange(len(paramProg1))\n",
        "it2 = np.arange(len(paramProg2))\n",
        "\n",
        "fig = plt.figure(figsize=(7.5,7.5))\n",
        "plt.plot(it1,paramProg1, 'red')"
      ],
      "metadata": {
        "colab": {
          "base_uri": "https://localhost:8080/",
          "height": 474
        },
        "id": "d7GEqO3OkRod",
        "outputId": "aefa801b-99a5-4668-8300-546effcfc7cd"
      },
      "execution_count": 49,
      "outputs": [
        {
          "output_type": "execute_result",
          "data": {
            "text/plain": [
              "[<matplotlib.lines.Line2D at 0x7f3b0ae55550>]"
            ]
          },
          "metadata": {},
          "execution_count": 49
        },
        {
          "output_type": "display_data",
          "data": {
            "text/plain": [
              "<Figure size 540x540 with 1 Axes>"
            ],
            "image/png": "[encoded data removed]"
          },
          "metadata": {
            "needs_background": "light"
          }
        }
      ]
    },
    {
      "cell_type": "code",
      "source": [
        "plt.plot(it1,logProg1, 'blue')"
      ],
      "metadata": {
        "colab": {
          "base_uri": "https://localhost:8080/",
          "height": 282
        },
        "id": "v4kBlRWnme6n",
        "outputId": "334218ea-46b8-4e1f-bb61-c749a418b423"
      },
      "execution_count": 45,
      "outputs": [
        {
          "output_type": "execute_result",
          "data": {
            "text/plain": [
              "[<matplotlib.lines.Line2D at 0x7f3b0afa0150>]"
            ]
          },
          "metadata": {},
          "execution_count": 45
        },
        {
          "output_type": "display_data",
          "data": {
            "text/plain": [
              "<Figure size 432x288 with 1 Axes>"
            ],
            "image/png": "[encoded data removed]"
          },
          "metadata": {
            "needs_background": "light"
          }
        }
      ]
    },
    {
      "cell_type": "code",
      "source": [
        "plt.plot(it2,paramProg2, 'red')"
      ],
      "metadata": {
        "colab": {
          "base_uri": "https://localhost:8080/",
          "height": 282
        },
        "id": "7YFDXuUInMSp",
        "outputId": "0e31b5cb-8226-42a9-8492-dc1f7ea9b7e0"
      },
      "execution_count": 46,
      "outputs": [
        {
          "output_type": "execute_result",
          "data": {
            "text/plain": [
              "[<matplotlib.lines.Line2D at 0x7f3b0af8a950>]"
            ]
          },
          "metadata": {},
          "execution_count": 46
        },
        {
          "output_type": "display_data",
          "data": {
            "text/plain": [
              "<Figure size 432x288 with 1 Axes>"
            ],
            "image/png": "[encoded data removed]"
          },
          "metadata": {
            "needs_background": "light"
          }
        }
      ]
    },
    {
      "cell_type": "code",
      "source": [
        "plt.plot(it2,logProg2, 'blue')"
      ],
      "metadata": {
        "colab": {
          "base_uri": "https://localhost:8080/",
          "height": 282
        },
        "id": "1BbZyom2nOU0",
        "outputId": "7d3edf66-c38c-4d0a-8361-3b7e9cfde0d3"
      },
      "execution_count": 47,
      "outputs": [
        {
          "output_type": "execute_result",
          "data": {
            "text/plain": [
              "[<matplotlib.lines.Line2D at 0x7f3b0af333d0>]"
            ]
          },
          "metadata": {},
          "execution_count": 47
        },
        {
          "output_type": "display_data",
          "data": {
            "text/plain": [
              "<Figure size 432x288 with 1 Axes>"
            ],
            "image/png": "[encoded data removed]"
          },
          "metadata": {
            "needs_background": "light"
          }
        }
      ]
    },
    {
      "cell_type": "code",
      "source": [],
      "metadata": {
        "id": "4TVF5-r2nWtE"
      },
      "execution_count": null,
      "outputs": []
    }
  ]
}